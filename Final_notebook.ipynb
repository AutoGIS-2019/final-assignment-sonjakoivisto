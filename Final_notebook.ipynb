{
 "cells": [
  {
   "cell_type": "markdown",
   "metadata": {},
   "source": [
    "**FINAL EXCERCISE**\n",
    "\n",
    "Target is to assess the development of biking routes between 2013 and 2018 in Helsinki area. I will map the times how fast a fast biker can get to each university campus in Metropolitan area (new Metropolia campus in Myllypuro included to bring some variety). In the light of the results, I will ponder if bike is a viable transportation option for students compared to public transportation in terms of transportation time. I will also map the development of biking traffic amounts from same years and ponder about the relation of possible change in travel time and possible change in traffic amount.  "
   ]
  },
  {
   "cell_type": "code",
   "execution_count": null,
   "metadata": {},
   "outputs": [],
   "source": [
    "\n",
    "\n",
    "\n",
    "#API link for bike count data\n",
    "https://services1.arcgis.com/sswNXkUiRoWtrx0t/arcgis/rest/services/Helsingin_seudun_py%C3%B6r%C3%A4laskennat/FeatureServer/0/query?where=1%3D1&outFields=FID,Id,Paikka,ka_2013,ka_2018&outSR=4326&f=json"
   ]
  }
 ],
 "metadata": {
  "kernelspec": {
   "display_name": "Python 3",
   "language": "python",
   "name": "python3"
  },
  "language_info": {
   "codemirror_mode": {
    "name": "ipython",
    "version": 3
   },
   "file_extension": ".py",
   "mimetype": "text/x-python",
   "name": "python",
   "nbconvert_exporter": "python",
   "pygments_lexer": "ipython3",
   "version": "3.7.3"
  }
 },
 "nbformat": 4,
 "nbformat_minor": 4
}
